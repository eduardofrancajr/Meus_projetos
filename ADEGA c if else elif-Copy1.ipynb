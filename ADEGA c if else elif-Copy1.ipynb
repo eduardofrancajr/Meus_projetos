{
 "cells": [
  {
   "cell_type": "code",
   "execution_count": 5,
   "id": "ea6135e4-1693-4f78-b742-2df6e61e7cbc",
   "metadata": {},
   "outputs": [
    {
     "name": "stdout",
     "output_type": "stream",
     "text": [
      "ADEGA ANHANGUERA\n",
      "\n",
      "BEBIDAS ALCOÓLICAS SOMENTE PARA 18+, MEDIANTE A DATA DE NASCIMENTO.\n",
      "\n"
     ]
    },
    {
     "name": "stdin",
     "output_type": "stream",
     "text": [
      "-Para adquirir a bebida, antes, digite o ano de seu Nascimento:\n",
      "      2014\n"
     ]
    },
    {
     "name": "stdout",
     "output_type": "stream",
     "text": [
      "-Você é menor de idade.\n",
      "Não pode consumir bebida alcoólica.\n"
     ]
    },
    {
     "name": "stdin",
     "output_type": "stream",
     "text": [
      "-Digite a Bebida Disponível:\n",
      "1 - Água\n",
      "2 - Refrigerante\n",
      "3 - Suco\n",
      "\n",
      " 3\n"
     ]
    },
    {
     "name": "stdout",
     "output_type": "stream",
     "text": [
      "\n",
      "3 - Suco\n",
      "\n",
      "Preço da Unidade: R$  12.00\n",
      "\n"
     ]
    },
    {
     "name": "stdin",
     "output_type": "stream",
     "text": [
      "-Digite a forma de pagamento:\n",
      " 1 - Crédito:\n",
      " 2 - Débito:\n",
      " 3 - Pix:\n",
      "\n",
      " 1\n"
     ]
    },
    {
     "name": "stdout",
     "output_type": "stream",
     "text": [
      "\n",
      "1 - Crédito. \n",
      "Insira ou aproxime seu cartão.\n"
     ]
    },
    {
     "name": "stdin",
     "output_type": "stream",
     "text": [
      "\n",
      "-Compra finalizada?\n",
      "1- SIM\n",
      "2- NÃO\n",
      "\n",
      " 1\n"
     ]
    },
    {
     "name": "stdout",
     "output_type": "stream",
     "text": [
      "\n",
      "Agradecemos a Preferência!\n"
     ]
    }
   ],
   "source": [
    "print('ADEGA ANHANGUERA\\n\\nBEBIDAS ALCOÓLICAS SOMENTE PARA 18+, MEDIANTE A DATA DE NASCIMENTO.\\n')\n",
    "ano = int(input('-Para adquirir a bebida, antes, digite o ano de seu Nascimento:\\n     '))\n",
    "idade = 2024 - ano\n",
    "\n",
    "if idade >= 18:\n",
    "    print('-Pode consumir bebida alcoólica.')\n",
    "    bebida = str(input('-Digite a bebida disponível:\\n1 - Cerveja\\n2 - Vodka\\n3 - Whisky \\n4 - Água\\n5 - Refrigerante\\n6 - Suco\\n\\n'))\n",
    "    if bebida =='1':\n",
    "        print('\\n1 - Cerveja')\n",
    "        preço_unidade = 5\n",
    "    elif bebida =='2':\n",
    "            print('\\n2 - Vodka')\n",
    "            preço_unidade = 8\n",
    "    elif bebida =='3':\n",
    "            print('\\n3 - Whisky')\n",
    "            preço_unidade = 10\n",
    "    elif bebida =='4':\n",
    "        print('\\n4 - Água')\n",
    "        preço_unidade = 3\n",
    "    elif bebida =='5':\n",
    "            print('\\n5 - Refrigerante')\n",
    "            preço_unidade = 6\n",
    "    elif bebida =='6':\n",
    "            print('\\n6 - Suco')\n",
    "            preço_unidade = 12 \n",
    "else:\n",
    "    print('-Você é menor de idade.\\nNão pode consumir bebida alcoólica.')\n",
    "    bebida = str(input('-Digite a Bebida Disponível:\\n1 - Água\\n2 - Refrigerante\\n3 - Suco\\n\\n'))\n",
    "    if bebida =='1':\n",
    "        print('\\n1 - Água')\n",
    "        preço_unidade = 3\n",
    "    elif bebida =='2':\n",
    "            print('\\n2 - Refrigerante')\n",
    "            preço_unidade = 6\n",
    "    elif bebida =='3':\n",
    "            print('\\n3 - Suco')\n",
    "            preço_unidade = 12 \n",
    "\n",
    "print(f'\\nPreço da Unidade: R$ {preço_unidade: .2f}\\n')\n",
    "\n",
    "pagamento = str(input('-Digite a forma de pagamento:\\n 1 - Crédito:\\n 2 - Débito:\\n 3 - Pix:\\n\\n'))\n",
    "if pagamento =='1':\n",
    "    print('\\n1 - Crédito. \\nInsira ou aproxime seu cartão.')\n",
    "elif pagamento =='2':\n",
    "        print('\\n2 - Débito. \\nInsira ou aproxime seu cartão.')\n",
    "elif pagamento =='3':\n",
    "        print ('\\n3 - Pix. \\n-Envie para a chave pix cadastrada da loja ou escaneie o QR code.\\n')\n",
    "        \n",
    "        import matplotlib.pyplot as plt\n",
    "        from skimage.io import imread\n",
    "        imagem = imread('C:/Users/eduar/OneDrive/Documentos/Trabalhos/ImagensTST/qrcode2.png')\n",
    "        plt.imshow(imagem)\n",
    "        plt.figure(figsize=(0.001, 0.001))\n",
    "        plt.show()\n",
    "    \n",
    "fim = str(input('\\n-Compra finalizada?\\n1- SIM\\n2- NÃO\\n\\n'))\n",
    "if fim =='1':\n",
    "    print('\\nAgradecemos a Preferência!')\n",
    "elif fim =='2':\n",
    "        compra= str(input('1 - Deseja Cancelar Compra ?\\n2 - Deseja alterar a forma de pagamento ?\\n'))\n",
    "        if compra =='1':\n",
    "            print('Compra Cancelada!')\n",
    "        elif compra =='2':     \n",
    "            pagamento2 = str(input('-Digite a forma de pagamento:\\n 1 - Crédito:\\n 2 - Débito:\\n 3 - Pix:\\n\\n'))\n",
    "            if pagamento2 =='1':\n",
    "                print('\\n1 - Crédito. \\nInsira ou aproxime seu cartão.')\n",
    "            elif pagamento2 =='2':\n",
    "                    print('\\n2 - Débito. \\nInsira ou aproxime seu cartão.')\n",
    "            elif pagamento2 =='3':\n",
    "                    print ('\\n3 - Pix. \\n-Envie para a chave pix cadastrada da loja ou escaneie o QR code.\\n')\n",
    "                        \n",
    "            fim = str(input('\\n-Compra finalizada?\\n1- SIM\\n2- NÃO\\n\\n'))\n",
    "            if fim =='1':\n",
    "                print('\\nAgradecemos a Preferência!')"
   ]
  },
  {
   "cell_type": "code",
   "execution_count": null,
   "id": "d6b1c660-135a-44bb-9875-a62532682293",
   "metadata": {},
   "outputs": [],
   "source": []
  }
 ],
 "metadata": {
  "kernelspec": {
   "display_name": "Python 3 (ipykernel)",
   "language": "python",
   "name": "python3"
  },
  "language_info": {
   "codemirror_mode": {
    "name": "ipython",
    "version": 3
   },
   "file_extension": ".py",
   "mimetype": "text/x-python",
   "name": "python",
   "nbconvert_exporter": "python",
   "pygments_lexer": "ipython3",
   "version": "3.12.4"
  }
 },
 "nbformat": 4,
 "nbformat_minor": 5
}
